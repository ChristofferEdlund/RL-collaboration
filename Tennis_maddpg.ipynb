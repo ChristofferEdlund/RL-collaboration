{
 "cells": [
  {
   "cell_type": "markdown",
   "metadata": {},
   "source": [
    "# Collaboration and Competition\n",
    "\n",
    "---\n",
    "\n",
    "In this notebook, you will learn how to use the Unity ML-Agents environment for the third project of the [Deep Reinforcement Learning Nanodegree](https://www.udacity.com/course/deep-reinforcement-learning-nanodegree--nd893) program.\n",
    "\n",
    "### 1. Start the Environment\n",
    "\n",
    "We begin by importing the necessary packages.  If the code cell below returns an error, please revisit the project instructions to double-check that you have installed [Unity ML-Agents](https://github.com/Unity-Technologies/ml-agents/blob/master/docs/Installation.md) and [NumPy](http://www.numpy.org/)."
   ]
  },
  {
   "cell_type": "code",
   "execution_count": 1,
   "metadata": {},
   "outputs": [
    {
     "name": "stdout",
     "output_type": "stream",
     "text": [
      "\u001b[33m  DEPRECATION: A future pip version will change local packages to be built in-place without first copying to a temporary directory. We recommend you use --use-feature=in-tree-build to test your packages with this new behavior before it becomes the default.\n",
      "   pip 21.3 will remove support for this functionality. You can find discussion regarding this at https://github.com/pypa/pip/issues/7555.\u001b[0m\n",
      "\u001b[33mWARNING: Running pip as root will break packages and permissions. You should install packages reliably by using venv: https://pip.pypa.io/warnings/venv\u001b[0m\n",
      "\u001b[33mWARNING: You are using pip version 21.1.1; however, version 21.1.3 is available.\n",
      "You should consider upgrading via the '/opt/conda/bin/python -m pip install --upgrade pip' command.\u001b[0m\n"
     ]
    }
   ],
   "source": [
    "!pip -q install ../python\n",
    "from unityagents import UnityEnvironment\n",
    "import numpy as np\n",
    "import sys\n",
    "from matplotlib import pyplot as plt\n",
    "import seaborn as sns\n",
    "from pathlib import Path\n",
    "\n",
    "sys.path.append(\"./src\")"
   ]
  },
  {
   "cell_type": "code",
   "execution_count": 2,
   "metadata": {},
   "outputs": [],
   "source": [
    "%load_ext autoreload\n",
    "%autoreload 2\n",
    "from agent import MADDPG_Agent"
   ]
  },
  {
   "cell_type": "code",
   "execution_count": 3,
   "metadata": {},
   "outputs": [],
   "source": [
    "resource_path = Path(\"resources\")\n",
    "\n",
    "weight_path = resource_path.joinpath(\"weights\")\n",
    "plot_path = resource_path.joinpath(\"plots\")\n",
    "metric_path = resource_path.joinpath(\"metrics\")\n",
    "\n",
    "weight_path.mkdir(parents=True, exist_ok=True)\n",
    "plot_path.mkdir(parents=True, exist_ok=True)\n",
    "metric_path.mkdir(parents=True, exist_ok=True)\n"
   ]
  },
  {
   "cell_type": "markdown",
   "metadata": {},
   "source": [
    "Next, we will start the environment!  **_Before running the code cell below_**, change the `file_name` parameter to match the location of the Unity environment that you downloaded.\n",
    "\n",
    "- **Mac**: `\"path/to/Tennis.app\"`\n",
    "- **Windows** (x86): `\"path/to/Tennis_Windows_x86/Tennis.exe\"`\n",
    "- **Windows** (x86_64): `\"path/to/Tennis_Windows_x86_64/Tennis.exe\"`\n",
    "- **Linux** (x86): `\"path/to/Tennis_Linux/Tennis.x86\"`\n",
    "- **Linux** (x86_64): `\"path/to/Tennis_Linux/Tennis.x86_64\"`\n",
    "- **Linux** (x86, headless): `\"path/to/Tennis_Linux_NoVis/Tennis.x86\"`\n",
    "- **Linux** (x86_64, headless): `\"path/to/Tennis_Linux_NoVis/Tennis.x86_64\"`\n",
    "\n",
    "For instance, if you are using a Mac, then you downloaded `Tennis.app`.  If this file is in the same folder as the notebook, then the line below should appear as follows:\n",
    "```\n",
    "env = UnityEnvironment(file_name=\"Tennis.app\")\n",
    "```"
   ]
  },
  {
   "cell_type": "code",
   "execution_count": 4,
   "metadata": {},
   "outputs": [
    {
     "name": "stderr",
     "output_type": "stream",
     "text": [
      "INFO:unityagents:\n",
      "'Academy' started successfully!\n",
      "Unity Academy name: Academy\n",
      "        Number of Brains: 1\n",
      "        Number of External Brains : 1\n",
      "        Lesson number : 0\n",
      "        Reset Parameters :\n",
      "\t\t\n",
      "Unity brain name: TennisBrain\n",
      "        Number of Visual Observations (per agent): 0\n",
      "        Vector Observation space type: continuous\n",
      "        Vector Observation space size (per agent): 8\n",
      "        Number of stacked Vector Observation: 3\n",
      "        Vector Action space type: continuous\n",
      "        Vector Action space size (per agent): 2\n",
      "        Vector Action descriptions: , \n"
     ]
    }
   ],
   "source": [
    "env = UnityEnvironment(file_name=\"Tennis_Linux_NoVis/Tennis.x86_64\")"
   ]
  },
  {
   "cell_type": "markdown",
   "metadata": {},
   "source": [
    "Environments contain **_brains_** which are responsible for deciding the actions of their associated agents. Here we check for the first brain available, and set it as the default brain we will be controlling from Python."
   ]
  },
  {
   "cell_type": "code",
   "execution_count": 5,
   "metadata": {},
   "outputs": [],
   "source": [
    "# get the default brain\n",
    "brain_name = env.brain_names[0]\n",
    "brain = env.brains[brain_name]"
   ]
  },
  {
   "cell_type": "markdown",
   "metadata": {},
   "source": [
    "### 2. Examine the State and Action Spaces\n",
    "\n",
    "In this environment, two agents control rackets to bounce a ball over a net. If an agent hits the ball over the net, it receives a reward of +0.1.  If an agent lets a ball hit the ground or hits the ball out of bounds, it receives a reward of -0.01.  Thus, the goal of each agent is to keep the ball in play.\n",
    "\n",
    "The observation space consists of 8 variables corresponding to the position and velocity of the ball and racket. Two continuous actions are available, corresponding to movement toward (or away from) the net, and jumping. \n",
    "\n",
    "Run the code cell below to print some information about the environment."
   ]
  },
  {
   "cell_type": "code",
   "execution_count": 6,
   "metadata": {},
   "outputs": [
    {
     "name": "stdout",
     "output_type": "stream",
     "text": [
      "Number of agents: 2\n",
      "Size of each action: 2\n",
      "There are 2 agents. Each observes a state with length: 24\n",
      "The state for the first agent looks like: [ 0.          0.          0.          0.          0.          0.\n",
      "  0.          0.          0.          0.          0.          0.\n",
      "  0.          0.          0.          0.         -6.65278625 -1.5\n",
      " -0.          0.          6.83172083  6.         -0.          0.        ]\n",
      "state array format: (2, 24)\n"
     ]
    }
   ],
   "source": [
    "# reset the environment\n",
    "env_info = env.reset(train_mode=True)[brain_name]\n",
    "\n",
    "# number of agents \n",
    "num_agents = len(env_info.agents)\n",
    "print('Number of agents:', num_agents)\n",
    "\n",
    "# size of each action\n",
    "action_size = brain.vector_action_space_size\n",
    "print('Size of each action:', action_size)\n",
    "\n",
    "# examine the state space \n",
    "states = env_info.vector_observations\n",
    "state_size = states.shape[1]\n",
    "print('There are {} agents. Each observes a state with length: {}'.format(states.shape[0], state_size))\n",
    "print('The state for the first agent looks like:', states[0])\n",
    "print(f\"state array format: {states.shape}\")"
   ]
  },
  {
   "cell_type": "markdown",
   "metadata": {},
   "source": [
    "### 3. Take Random Actions in the Environment\n",
    "\n",
    "In the next code cell, you will learn how to use the Python API to control the agents and receive feedback from the environment.\n",
    "\n",
    "Once this cell is executed, you will watch the agents' performance, if they select actions at random with each time step.  A window should pop up that allows you to observe the agents.\n",
    "\n",
    "Of course, as part of the project, you'll have to change the code so that the agents are able to use their experiences to gradually choose better actions when interacting with the environment!"
   ]
  },
  {
   "cell_type": "code",
   "execution_count": 7,
   "metadata": {},
   "outputs": [
    {
     "data": {
      "text/plain": [
       "\"\\nfor i in range(1, 6):                                      # play game for 5 episodes\\n    env_info = env.reset(train_mode=False)[brain_name]     # reset the environment    \\n    states = env_info.vector_observations                  # get the current state (for each agent)\\n    scores = np.zeros(num_agents)                          # initialize the score (for each agent)\\n    i = 0\\n    while True:\\n        i+=1\\n        actions = np.random.randn(num_agents, action_size) # select an action (for each agent)\\n        actions = np.clip(actions, -1, 1)                  # all actions between -1 and 1\\n        env_info = env.step(actions)[brain_name]           # send all actions to tne environment\\n        next_states = env_info.vector_observations         # get next state (for each agent)\\n        rewards = env_info.rewards                         # get reward (for each agent)\\n        dones = env_info.local_done                        # see if episode finished\\n        scores += env_info.rewards                         # update the score (for each agent)\\n        states = next_states                               # roll over states to next time step\\n        if np.any(dones):                                  # exit loop if episode finished\\n            break\\n    print('Score (max over agents) from episode {}: {}'.format(i, np.max(scores)))\\n\""
      ]
     },
     "execution_count": 7,
     "metadata": {},
     "output_type": "execute_result"
    }
   ],
   "source": [
    "\"\"\"\n",
    "for i in range(1, 6):                                      # play game for 5 episodes\n",
    "    env_info = env.reset(train_mode=False)[brain_name]     # reset the environment    \n",
    "    states = env_info.vector_observations                  # get the current state (for each agent)\n",
    "    scores = np.zeros(num_agents)                          # initialize the score (for each agent)\n",
    "    i = 0\n",
    "    while True:\n",
    "        i+=1\n",
    "        actions = np.random.randn(num_agents, action_size) # select an action (for each agent)\n",
    "        actions = np.clip(actions, -1, 1)                  # all actions between -1 and 1\n",
    "        env_info = env.step(actions)[brain_name]           # send all actions to tne environment\n",
    "        next_states = env_info.vector_observations         # get next state (for each agent)\n",
    "        rewards = env_info.rewards                         # get reward (for each agent)\n",
    "        dones = env_info.local_done                        # see if episode finished\n",
    "        scores += env_info.rewards                         # update the score (for each agent)\n",
    "        states = next_states                               # roll over states to next time step\n",
    "        if np.any(dones):                                  # exit loop if episode finished\n",
    "            break\n",
    "    print('Score (max over agents) from episode {}: {}'.format(i, np.max(scores)))\n",
    "\"\"\""
   ]
  },
  {
   "cell_type": "code",
   "execution_count": 8,
   "metadata": {},
   "outputs": [],
   "source": [
    "agent = MADDPG_Agent(state_size=state_size, action_size=action_size, seed=0, use_noise=True, num_agents=num_agents, grad_clip=False)\n",
    "\n",
    "env_info = env.reset(train_mode=True)[brain_name] # reset the environment\n",
    "state = env_info.vector_observations[0]            # get the current state\n",
    "score = 0"
   ]
  },
  {
   "cell_type": "code",
   "execution_count": 9,
   "metadata": {},
   "outputs": [
    {
     "name": "stdout",
     "output_type": "stream",
     "text": [
      "Training started\n",
      "Episode 50\t Mean score: -0.00\tAverage Score: 0.00\n",
      "Episode 100\t Mean score: -0.00\tAverage Score: 0.00\n",
      "Episode 150\t Mean score: -0.00\tAverage Score: 0.00\n",
      "Episode 200\t Mean score: -0.00\tAverage Score: 0.00\n",
      "Episode 250\t Mean score: -0.00\tAverage Score: 0.00\n",
      "Episode 300\t Mean score: -0.00\tAverage Score: 0.00\n",
      "Episode 350\t Mean score: -0.00\tAverage Score: 0.00\n",
      "Episode 400\t Mean score: -0.00\tAverage Score: 0.00\n",
      "Episode 450\t Mean score: -0.00\tAverage Score: 0.00\n",
      "Episode 500\t Mean score: -0.00\tAverage Score: 0.01\n",
      "Episode 550\t Mean score: -0.00\tAverage Score: 0.01\n",
      "Episode 600\t Mean score: -0.00\tAverage Score: 0.01\n",
      "Episode 650\t Mean score: -0.00\tAverage Score: 0.01\n",
      "Episode 700\t Mean score: -0.00\tAverage Score: 0.01\n",
      "Episode 750\t Mean score: -0.00\tAverage Score: 0.01\n",
      "Episode 800\t Mean score: 0.05\tAverage Score: 0.02\n",
      "Episode 850\t Mean score: -0.00\tAverage Score: 0.02\n",
      "Episode 900\t Mean score: -0.00\tAverage Score: 0.01\n",
      "Episode 950\t Mean score: -0.00\tAverage Score: 0.02\n",
      "Episode 1000\t Mean score: -0.00\tAverage Score: 0.03\n",
      "Episode 1050\t Mean score: 0.05\tAverage Score: 0.05\n",
      "Episode 1100\t Mean score: 0.05\tAverage Score: 0.07\n",
      "Episode 1150\t Mean score: 0.05\tAverage Score: 0.07\n",
      "Episode 1200\t Mean score: 0.05\tAverage Score: 0.07\n",
      "Episode 1250\t Mean score: 0.05\tAverage Score: 0.08\n",
      "Episode 1300\t Mean score: 0.05\tAverage Score: 0.08\n",
      "Episode 1350\t Mean score: 0.05\tAverage Score: 0.08\n",
      "Episode 1400\t Mean score: 0.05\tAverage Score: 0.09\n",
      "Episode 1450\t Mean score: -0.00\tAverage Score: 0.08\n",
      "Episode 1500\t Mean score: 0.10\tAverage Score: 0.07\n",
      "Episode 1550\t Mean score: -0.00\tAverage Score: 0.10\n",
      "Episode 1600\t Mean score: 0.15\tAverage Score: 0.11\n",
      "Episode 1650\t Mean score: 0.05\tAverage Score: 0.14\n",
      "Episode 1700\t Mean score: 0.15\tAverage Score: 0.17\n",
      "Episode 1750\t Mean score: 0.10\tAverage Score: 0.16\n",
      "Episode 1800\t Mean score: 0.25\tAverage Score: 0.15\n",
      "Episode 1850\t Mean score: -0.00\tAverage Score: 0.14\n",
      "Episode 1900\t Mean score: 0.45\tAverage Score: 0.14\n",
      "Episode 1950\t Mean score: 0.05\tAverage Score: 0.14\n",
      "Episode 2000\t Mean score: 0.30\tAverage Score: 0.14\n",
      "Episode 2050\t Mean score: 0.15\tAverage Score: 0.18\n",
      "Episode 2100\t Mean score: -0.00\tAverage Score: 0.19\n",
      "Episode 2150\t Mean score: 0.10\tAverage Score: 0.18\n",
      "Episode 2200\t Mean score: 0.20\tAverage Score: 0.19\n",
      "Episode 2250\t Mean score: 0.25\tAverage Score: 0.19\n",
      "Episode 2300\t Mean score: 0.15\tAverage Score: 0.18\n",
      "Episode 2350\t Mean score: 0.05\tAverage Score: 0.18\n",
      "Episode 2400\t Mean score: 0.10\tAverage Score: 0.23\n",
      "Episode 2450\t Mean score: 0.05\tAverage Score: 0.22\n",
      "Episode 2500\t Mean score: 0.15\tAverage Score: 0.20\n",
      "Episode 2550\t Mean score: -0.00\tAverage Score: 0.23\n",
      "Episode 2600\t Mean score: 0.20\tAverage Score: 0.25\n",
      "Episode 2650\t Mean score: 0.15\tAverage Score: 0.26\n",
      "Episode 2700\t Mean score: -0.00\tAverage Score: 0.25\n",
      "Episode 2750\t Mean score: -0.00\tAverage Score: 0.22\n",
      "Episode 2800\t Mean score: 0.90\tAverage Score: 0.29\n",
      "Episode 2850\t Mean score: 0.05\tAverage Score: 0.33\n",
      "Episode 2900\t Mean score: 0.45\tAverage Score: 0.27\n",
      "Episode 2950\t Mean score: 1.05\tAverage Score: 0.24\n",
      "Episode 3000\t Mean score: 0.15\tAverage Score: 0.29\n",
      "Episode 3050\t Mean score: -0.00\tAverage Score: 0.35\n",
      "Episode 3100\t Mean score: 0.45\tAverage Score: 0.32\n",
      "Episode 3150\t Mean score: -0.00\tAverage Score: 0.34\n",
      "Episode 3200\t Mean score: 0.05\tAverage Score: 0.39\n",
      "Episode 3250\t Mean score: 0.55\tAverage Score: 0.36\n",
      "Episode 3300\t Mean score: 0.50\tAverage Score: 0.32\n",
      "Episode 3350\t Mean score: -0.00\tAverage Score: 0.27\n",
      "Episode 3400\t Mean score: 0.10\tAverage Score: 0.21\n",
      "Episode 3450\t Mean score: 0.30\tAverage Score: 0.16\n",
      "Episode 3500\t Mean score: 0.05\tAverage Score: 0.14\n",
      "Episode 3550\t Mean score: -0.00\tAverage Score: 0.15\n",
      "Episode 3600\t Mean score: -0.00\tAverage Score: 0.18\n",
      "Episode 3650\t Mean score: 0.35\tAverage Score: 0.22\n",
      "Episode 3700\t Mean score: 0.35\tAverage Score: 0.26\n",
      "Episode 3750\t Mean score: 0.15\tAverage Score: 0.28\n",
      "Episode 3800\t Mean score: 0.15\tAverage Score: 0.26\n",
      "Episode 3850\t Mean score: 0.35\tAverage Score: 0.26\n",
      "Episode 3900\t Mean score: 0.20\tAverage Score: 0.29\n",
      "Episode 3950\t Mean score: 0.25\tAverage Score: 0.30\n",
      "Episode 4000\t Mean score: 0.35\tAverage Score: 0.34\n",
      "Episode 4050\t Mean score: 0.50\tAverage Score: 0.34\n",
      "Episode 4100\t Mean score: 1.10\tAverage Score: 0.32\n",
      "Episode 4150\t Mean score: 0.15\tAverage Score: 0.32\n",
      "Episode 4200\t Mean score: 0.30\tAverage Score: 0.31\n",
      "Episode 4250\t Mean score: 1.00\tAverage Score: 0.46\n",
      "\n",
      "Environment solved in 4297 episodes!\tAverage Score: 0.51\n"
     ]
    },
    {
     "data": {
      "image/png": "[encoded data removed]",
      "text/plain": [
       "<Figure size 432x288 with 1 Axes>"
      ]
     },
     "metadata": {
      "needs_background": "light"
     },
     "output_type": "display_data"
    }
   ],
   "source": [
    "from collections import deque\n",
    "\n",
    "score_goal = 0.5\n",
    "score_window = 100\n",
    "\n",
    "def ma_ddpg(n_episodes=5000, max_t=1000, score_window=100, print_freq=50): #, eps_start=1.0, eps_end=0.01, eps_decay=0.995):\n",
    "    \"\"\"Training of a multi-agent deep deterministic policy gradient RL agent.\n",
    "    \n",
    "    Params\n",
    "    ======\n",
    "        n_episodes (int): maximum number of training episodes\n",
    "        max_t (int): maximum number of timesteps per episode\n",
    "        score_window (int) : \n",
    "\n",
    "    \"\"\"\n",
    "    scores = []               # initialize the score (for each agent)\n",
    "    scores_window = deque(maxlen=score_window)  # last 100 scores\n",
    "    # eps = eps_start                             # initialize epsilon\n",
    "    \n",
    "    for i_episode in range(1, n_episodes+1):\n",
    "        env_info = env.reset(train_mode=True)[brain_name]\n",
    "        states = env_info.vector_observations\n",
    "        score = np.zeros(num_agents)   \n",
    "        agent.reset_noise()\n",
    "        \n",
    "        for t in range(max_t):\n",
    "\n",
    "            actions = agent.act(states)\n",
    "            env_info = env.step(actions)[brain_name]\n",
    "            \n",
    "            next_states = env_info.vector_observations\n",
    "            rewards = env_info.rewards\n",
    "            dones = env_info.local_done\n",
    "\n",
    "            #for state, action, reward, next_state, done in zip(states, actions, rewards, next_states, dones):\n",
    "            agent.step(states, actions, rewards, next_states, dones, t)\n",
    "\n",
    "            states = next_states\n",
    "            score += rewards\n",
    "            if np.any(dones):\n",
    "                break \n",
    "        scores_window.append(np.max(score))       # save most recent score\n",
    "        scores.append(np.max(score))              # save most recent score\n",
    "\n",
    "        #print('\\rEpisode {}\\tAverage Score: {:.2f}'.format(i_episode, np.mean(scores_window)), end=\"\")\n",
    "        if i_episode % print_freq == 0:\n",
    "            print('\\rEpisode {}\\t Mean score: {:.2f}\\tAverage Score: {:.2f}'.format(i_episode, np.mean(score), np.mean(scores_window)))\n",
    "        if np.mean(scores_window)>=score_goal:\n",
    "            print('\\nEnvironment solved in {:d} episodes!\\tAverage Score: {:.2f}'.format(i_episode, np.mean(scores_window)))\n",
    "            np.save(str(metric_path.joinpath(\"maddpg_goal.npy\")), np.array(i_episode))\n",
    "            agent.save(weight_path)\n",
    "            break\n",
    "    return scores\n",
    "\n",
    "print(\"Training started\")\n",
    "scores = ma_ddpg()\n",
    "\n",
    "# plot the scores\n",
    "fig = plt.figure()\n",
    "ax = fig.add_subplot(111)\n",
    "\n",
    "#\n",
    "plt.plot(np.arange(len(scores)), scores)\n",
    "plt.ylabel('Score')\n",
    "plt.xlabel('Episode #')\n",
    "plt.show()"
   ]
  },
  {
   "cell_type": "code",
   "execution_count": null,
   "metadata": {},
   "outputs": [],
   "source": []
  },
  {
   "cell_type": "markdown",
   "metadata": {},
   "source": [
    "When finished, you can close the environment."
   ]
  },
  {
   "cell_type": "code",
   "execution_count": 10,
   "metadata": {},
   "outputs": [],
   "source": [
    "def moving_average(x, w):\n",
    "    return np.convolve(x, np.ones(w), 'valid') / w"
   ]
  },
  {
   "cell_type": "code",
   "execution_count": 18,
   "metadata": {},
   "outputs": [
    {
     "data": {
      "image/png": "[encoded data removed]",
      "text/plain": [
       "<Figure size 432x288 with 1 Axes>"
      ]
     },
     "metadata": {
      "needs_background": "light"
     },
     "output_type": "display_data"
    }
   ],
   "source": [
    "env_solved = np.load(metric_path.joinpath(\"maddpg_goal.npy\"))\n",
    "\n",
    "mean_scores = moving_average(scores, 10)\n",
    "fig, ax = plt.subplots()\n",
    "ax.plot(np.arange(len(scores)), scores, alpha=0.3, label=\"Raw scores\")\n",
    "ax.plot(np.arange(len(mean_scores)), mean_scores, label=\"Smooth scores\")\n",
    "\n",
    "ax.spines['right'].set_visible(False)\n",
    "ax.spines['top'].set_visible(False)\n",
    "\n",
    "plt.axvline(env_solved, 0.0, 1, color=\"#1f77b4\", linestyle='--', label=\"Solved\")\n",
    "plt.text(env_solved-500, 2 ,str(env_solved), fontsize=12)\n",
    "\n",
    "plt.legend(loc=\"upper left\")\n",
    "plt.title(\"MADDPG score plot\")\n",
    "plt.ylabel('Score')\n",
    "plt.xlabel('Episode #')\n",
    "plt.savefig(str(plot_path.joinpath(\"maddpg_score_plot.png\")))"
   ]
  },
  {
   "cell_type": "code",
   "execution_count": 12,
   "metadata": {},
   "outputs": [],
   "source": [
    "env.close()"
   ]
  },
  {
   "cell_type": "markdown",
   "metadata": {},
   "source": []
  }
 ],
 "metadata": {
  "kernelspec": {
   "display_name": "Python 3",
   "language": "python",
   "name": "python3"
  },
  "language_info": {
   "codemirror_mode": {
    "name": "ipython",
    "version": 3
   },
   "file_extension": ".py",
   "mimetype": "text/x-python",
   "name": "python",
   "nbconvert_exporter": "python",
   "pygments_lexer": "ipython3",
   "version": "3.6.5"
  },
  "pycharm": {
   "stem_cell": {
    "cell_type": "raw",
    "source": [],
    "metadata": {
     "collapsed": false
    }
   }
  }
 },
 "nbformat": 4,
 "nbformat_minor": 4
}